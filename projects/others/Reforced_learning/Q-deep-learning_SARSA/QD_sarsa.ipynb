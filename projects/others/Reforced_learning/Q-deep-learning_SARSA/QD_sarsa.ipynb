{
 "cells": [
  {
   "cell_type": "code",
   "execution_count": 1,
   "metadata": {},
   "outputs": [],
   "source": [
    "import gym\n",
    "import numpy as np\n",
    "import matplotlib.pyplot as plt\n",
    "%matplotlib inline\n",
    "from collections import namedtuple, deque\n",
    "from agent_td import Agent_Td\n",
    "import torch"
   ]
  },
  {
   "cell_type": "code",
   "execution_count": 2,
   "metadata": {},
   "outputs": [
    {
     "name": "stdout",
     "output_type": "stream",
     "text": [
      "observation space: Box(4,)\n",
      "action space: Discrete(2)\n"
     ]
    }
   ],
   "source": [
    "env = gym.make('CartPole-v0')\n",
    "#env = gym.make(\"Pendulum-v0\") #teste\n",
    "env.seed(0)\n",
    "print('observation space:', env.observation_space)\n",
    "print('action space:', env.action_space)"
   ]
  },
  {
   "cell_type": "code",
   "execution_count": 3,
   "metadata": {},
   "outputs": [],
   "source": [
    "agent = Agent_Td(state_size=4, action_size=2, seed=0, gamma=1, alpha= 1e-3)\n",
    "\n",
    "# watch an untrained agent\n",
    "state = env.reset()\n",
    "for j in range(4000):\n",
    "    action = agent.act(state)\n",
    "    env.render()\n",
    "    state, reward, done, _ = env.step(action)\n",
    "    if done:\n",
    "        break\n",
    "env.close()"
   ]
  },
  {
   "cell_type": "code",
   "execution_count": null,
   "metadata": {},
   "outputs": [],
   "source": []
  },
  {
   "cell_type": "code",
   "execution_count": 4,
   "metadata": {},
   "outputs": [
    {
     "name": "stdout",
     "output_type": "stream",
     "text": [
      "Episode 100\tAverage Score: 45.39\t eps:1.00e-02\t best_avg:-inf\n",
      "Episode 200\tAverage Score: 144.90\t eps:1.00e-02\t best_avg:-inf\n",
      "Episode 281\tAverage Score: 195.14\n",
      "Environment solved in 181 episodes!\tAverage Score: 195.14\n"
     ]
    }
   ],
   "source": [
    "def dqn(n_episodes=800, max_t=1000, eps_start=1e0, eps_end= 1e-2, eps_decay=0.955, disp = False):#eps_de0.955\n",
    "    \"\"\"Deep Q-Learning.\n",
    "    \n",
    "    Params\n",
    "    ======\n",
    "        n_episodes (int): maximum number of training episodes\n",
    "        max_t (int): maximum number of timesteps per episode\n",
    "        eps_start (float): starting value of epsilon, for epsilon-greedy action selection\n",
    "        eps_end (float): minimum value of epsilon\n",
    "        eps_decay (float): multiplicative factor (per episode) for decreasing epsilon\n",
    "    \"\"\"\n",
    "    best_avg = -np.inf\n",
    "    scores = []                        # list containing scores from each episode\n",
    "    scores_window = deque(maxlen=100)  # last 100 scores\n",
    "    eps = eps_start                    # initialize epsilon\n",
    "    for i_episode in range(1, n_episodes+1):\n",
    "        state = env.reset()\n",
    "        score = 0\n",
    "        action = agent.act(state, eps)\n",
    "        for t in range(max_t):\n",
    "           \n",
    "            next_state, reward, done, _ = env.step(action)\n",
    "            if disp : env.render()\n",
    "            score += reward\n",
    "            if not done:\n",
    "                \n",
    "                # pick next action A'\n",
    "                next_action =  agent.act(next_state, eps)\n",
    "                # update TD estimate of Q\n",
    "                agent.step(state, action, reward, next_state,next_action, done)\n",
    "                # S <- S'\n",
    "                state = next_state\n",
    "                # A <- A'\n",
    "                action = next_action\n",
    "            if done:\n",
    "                break\n",
    "        \n",
    "        scores_window.append(score)       # save most recent score\n",
    "        scores.append(score)              # save most recent score\n",
    "        eps = max(eps_end, eps_decay*eps) # decrease epsilon\n",
    "        print('\\rEpisode {}\\tAverage Score: {:.2f}'.format(i_episode, np.mean(scores_window)), end=\"\")\n",
    "        if i_episode % 100 == 0:\n",
    "            print('\\rEpisode {}\\tAverage Score: {:.2f}\\t eps:{:.2e}\\t best_avg:{:.2f}'.format(i_episode, np.mean(scores_window),eps,best_avg))\n",
    "        if np.mean(scores_window)>=195.0:\n",
    "            print('\\nEnvironment solved in {:d} episodes!\\tAverage Score: {:.2f}'.format(i_episode-100, np.mean(scores_window)))\n",
    "            if np.mean(scores_window) > best_avg:\n",
    "                torch.save(agent.qnetwork.state_dict(), 'checkpoint.pth')\n",
    "                best_avg = np.mean(scores_window) \n",
    "            break\n",
    "    if disp: env.close()\n",
    "    return scores\n",
    "\n",
    "scores = dqn(disp = False)\n"
   ]
  },
  {
   "cell_type": "code",
   "execution_count": 5,
   "metadata": {},
   "outputs": [
    {
     "data": {
      "image/png": "[encoded data removed]",
      "text/plain": [
       "<Figure size 432x288 with 1 Axes>"
      ]
     },
     "metadata": {
      "needs_background": "light"
     },
     "output_type": "display_data"
    }
   ],
   "source": [
    "fig = plt.figure()\n",
    "ax = fig.add_subplot(111)\n",
    "plt.plot(np.arange(1, len(scores)+1), scores)\n",
    "plt.ylabel('Score')\n",
    "plt.xlabel('Episode #')\n",
    "plt.show()"
   ]
  },
  {
   "cell_type": "code",
   "execution_count": 4,
   "metadata": {},
   "outputs": [],
   "source": [
    "env = gym.make('CartPole-v0')\n",
    "agent.qnetwork.load_state_dict(torch.load('checkpoint.pth'))\n",
    "for _ in range(3):\n",
    "    state = env.reset()\n",
    "    for t in range(15000):\n",
    "        action = agent.act(state)\n",
    "        env.render( )\n",
    "        state, reward, done, _ = env.step(action)\n",
    "        if done:\n",
    "            break \n",
    "\n",
    "env.close()"
   ]
  },
  {
   "cell_type": "code",
   "execution_count": null,
   "metadata": {},
   "outputs": [],
   "source": []
  },
  {
   "cell_type": "code",
   "execution_count": null,
   "metadata": {},
   "outputs": [],
   "source": []
  }
 ],
 "metadata": {
  "kernelspec": {
   "display_name": "Python 3",
   "language": "python",
   "name": "python3"
  },
  "language_info": {
   "codemirror_mode": {
    "name": "ipython",
    "version": 3
   },
   "file_extension": ".py",
   "mimetype": "text/x-python",
   "name": "python",
   "nbconvert_exporter": "python",
   "pygments_lexer": "ipython3",
   "version": "3.7.1"
  }
 },
 "nbformat": 4,
 "nbformat_minor": 2
}
