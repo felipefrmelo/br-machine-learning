{
 "cells": [
  {
   "cell_type": "code",
   "execution_count": 1,
   "metadata": {},
   "outputs": [],
   "source": [
    "import gym\n",
    "import numpy as np\n",
    "import matplotlib.pyplot as plt\n",
    "%matplotlib inline\n",
    "from collections import namedtuple, deque\n",
    "from agent_rb import Agent_Rb\n",
    "import torch"
   ]
  },
  {
   "cell_type": "code",
   "execution_count": null,
   "metadata": {},
   "outputs": [],
   "source": []
  },
  {
   "cell_type": "code",
   "execution_count": 10,
   "metadata": {},
   "outputs": [
    {
     "name": "stdout",
     "output_type": "stream",
     "text": [
      "env : CartPole-v0\n",
      "observation space: Box(4,)\n",
      "action space: Discrete(2)\n"
     ]
    }
   ],
   "source": [
    "id=0\n",
    "name = {0 :'CartPole-v0',\n",
    "        1 :'MountainCar-v0',\n",
    "        2 : 'LunarLander-v2'}\n",
    "\n",
    "env = gym.make(name[id])\n",
    "env.seed(0)\n",
    "print('env :', name[id])\n",
    "print('observation space:', env.observation_space)\n",
    "print('action space:', env.action_space)"
   ]
  },
  {
   "cell_type": "code",
   "execution_count": 3,
   "metadata": {},
   "outputs": [],
   "source": [
    "nS = env.observation_space.shape[0]\n",
    "nA = env.action_space.n"
   ]
  },
  {
   "cell_type": "code",
   "execution_count": 4,
   "metadata": {},
   "outputs": [
    {
     "data": {
      "text/plain": [
       "2"
      ]
     },
     "execution_count": 4,
     "metadata": {},
     "output_type": "execute_result"
    }
   ],
   "source": [
    "nA"
   ]
  },
  {
   "cell_type": "code",
   "execution_count": 5,
   "metadata": {},
   "outputs": [],
   "source": [
    "agent = Agent_Rb(state_size=nS, action_size=nA , seed=0, gamma=1, alpha= 1e-3)\n",
    "\n",
    "# watch an untrained agent\n",
    "state = env.reset()\n",
    "for j in range(300):\n",
    "    action = agent.act(state)\n",
    "    env.render()\n",
    "    state, reward, done, _ = env.step(action)\n",
    "    if done:\n",
    "        break\n",
    "env.close()"
   ]
  },
  {
   "cell_type": "code",
   "execution_count": 6,
   "metadata": {},
   "outputs": [
    {
     "name": "stdout",
     "output_type": "stream",
     "text": [
      "Best Avg Score in -99 episodes!\tAverage Score: 39.00\n",
      "Episode 100\tAverage Score: 21.22\t Eps:1.00e-02\n",
      "Best Avg Score in 31 episodes!\tAverage Score: 40.01\n",
      "Best Avg Score in 32 episodes!\tAverage Score: 41.22\n",
      "Best Avg Score in 33 episodes!\tAverage Score: 43.09\n",
      "Best Avg Score in 34 episodes!\tAverage Score: 44.99\n",
      "Best Avg Score in 35 episodes!\tAverage Score: 46.89\n",
      "Best Avg Score in 36 episodes!\tAverage Score: 48.80\n",
      "Best Avg Score in 37 episodes!\tAverage Score: 50.71\n",
      "Best Avg Score in 38 episodes!\tAverage Score: 52.62\n",
      "Best Avg Score in 39 episodes!\tAverage Score: 54.48\n",
      "Best Avg Score in 40 episodes!\tAverage Score: 56.39\n",
      "Best Avg Score in 41 episodes!\tAverage Score: 58.30\n",
      "Best Avg Score in 42 episodes!\tAverage Score: 60.21\n",
      "Best Avg Score in 43 episodes!\tAverage Score: 62.10\n",
      "Best Avg Score in 44 episodes!\tAverage Score: 64.01\n",
      "Best Avg Score in 45 episodes!\tAverage Score: 65.92\n",
      "Best Avg Score in 46 episodes!\tAverage Score: 67.83\n",
      "Best Avg Score in 47 episodes!\tAverage Score: 69.69\n",
      "Best Avg Score in 48 episodes!\tAverage Score: 71.60\n",
      "Best Avg Score in 49 episodes!\tAverage Score: 73.49\n",
      "Best Avg Score in 50 episodes!\tAverage Score: 75.39\n",
      "Best Avg Score in 51 episodes!\tAverage Score: 77.29\n",
      "Best Avg Score in 52 episodes!\tAverage Score: 79.20\n",
      "Best Avg Score in 53 episodes!\tAverage Score: 81.10\n",
      "Best Avg Score in 54 episodes!\tAverage Score: 82.99\n",
      "Best Avg Score in 55 episodes!\tAverage Score: 84.89\n",
      "Best Avg Score in 56 episodes!\tAverage Score: 86.80\n",
      "Best Avg Score in 57 episodes!\tAverage Score: 88.72\n",
      "Best Avg Score in 58 episodes!\tAverage Score: 90.61\n",
      "Best Avg Score in 59 episodes!\tAverage Score: 92.52\n",
      "Best Avg Score in 60 episodes!\tAverage Score: 94.43\n",
      "Best Avg Score in 61 episodes!\tAverage Score: 96.33\n",
      "Best Avg Score in 62 episodes!\tAverage Score: 98.24\n",
      "Best Avg Score in 63 episodes!\tAverage Score: 100.15\n",
      "Best Avg Score in 64 episodes!\tAverage Score: 102.07\n",
      "Best Avg Score in 65 episodes!\tAverage Score: 103.97\n",
      "Best Avg Score in 66 episodes!\tAverage Score: 105.87\n",
      "Best Avg Score in 67 episodes!\tAverage Score: 107.77\n",
      "Best Avg Score in 68 episodes!\tAverage Score: 109.67\n",
      "Best Avg Score in 69 episodes!\tAverage Score: 111.57\n",
      "Best Avg Score in 70 episodes!\tAverage Score: 113.49\n",
      "Best Avg Score in 71 episodes!\tAverage Score: 115.40\n",
      "Best Avg Score in 72 episodes!\tAverage Score: 117.30\n",
      "Best Avg Score in 73 episodes!\tAverage Score: 119.19\n",
      "Best Avg Score in 74 episodes!\tAverage Score: 121.03\n",
      "Best Avg Score in 75 episodes!\tAverage Score: 122.86\n",
      "Best Avg Score in 76 episodes!\tAverage Score: 123.84\n",
      "Best Avg Score in 77 episodes!\tAverage Score: 125.50\n",
      "Best Avg Score in 78 episodes!\tAverage Score: 127.22\n",
      "Best Avg Score in 79 episodes!\tAverage Score: 129.01\n",
      "Best Avg Score in 80 episodes!\tAverage Score: 130.80\n",
      "Best Avg Score in 81 episodes!\tAverage Score: 132.51\n",
      "Best Avg Score in 82 episodes!\tAverage Score: 134.23\n",
      "Best Avg Score in 83 episodes!\tAverage Score: 135.77\n",
      "Best Avg Score in 84 episodes!\tAverage Score: 137.11\n",
      "Best Avg Score in 85 episodes!\tAverage Score: 138.75\n",
      "Best Avg Score in 86 episodes!\tAverage Score: 140.25\n",
      "Best Avg Score in 87 episodes!\tAverage Score: 141.64\n",
      "Best Avg Score in 88 episodes!\tAverage Score: 143.25\n",
      "Best Avg Score in 89 episodes!\tAverage Score: 144.70\n",
      "Best Avg Score in 90 episodes!\tAverage Score: 145.90\n",
      "Best Avg Score in 91 episodes!\tAverage Score: 147.64\n",
      "Best Avg Score in 92 episodes!\tAverage Score: 149.36\n",
      "Best Avg Score in 93 episodes!\tAverage Score: 150.58\n",
      "Best Avg Score in 94 episodes!\tAverage Score: 152.19\n",
      "Best Avg Score in 95 episodes!\tAverage Score: 153.61\n",
      "Best Avg Score in 96 episodes!\tAverage Score: 155.33\n",
      "Best Avg Score in 97 episodes!\tAverage Score: 156.84\n",
      "Best Avg Score in 98 episodes!\tAverage Score: 158.09\n",
      "Best Avg Score in 99 episodes!\tAverage Score: 159.66\n",
      "Episode 200\tAverage Score: 161.16\t Eps:1.00e-02\n",
      "Best Avg Score in 100 episodes!\tAverage Score: 161.16\n",
      "Best Avg Score in 101 episodes!\tAverage Score: 162.56\n",
      "Best Avg Score in 102 episodes!\tAverage Score: 164.34\n",
      "Best Avg Score in 103 episodes!\tAverage Score: 165.86\n",
      "Best Avg Score in 104 episodes!\tAverage Score: 167.26\n",
      "Best Avg Score in 105 episodes!\tAverage Score: 168.77\n",
      "Best Avg Score in 106 episodes!\tAverage Score: 169.64\n",
      "Best Avg Score in 107 episodes!\tAverage Score: 171.17\n",
      "Best Avg Score in 108 episodes!\tAverage Score: 172.15\n",
      "Best Avg Score in 109 episodes!\tAverage Score: 173.83\n",
      "Best Avg Score in 110 episodes!\tAverage Score: 175.47\n",
      "Best Avg Score in 111 episodes!\tAverage Score: 176.67\n",
      "Best Avg Score in 112 episodes!\tAverage Score: 178.18\n",
      "Best Avg Score in 113 episodes!\tAverage Score: 179.71\n",
      "Best Avg Score in 114 episodes!\tAverage Score: 181.20\n",
      "Best Avg Score in 115 episodes!\tAverage Score: 182.65\n",
      "Best Avg Score in 116 episodes!\tAverage Score: 184.28\n",
      "Best Avg Score in 117 episodes!\tAverage Score: 185.60\n",
      "Best Avg Score in 118 episodes!\tAverage Score: 187.16\n",
      "Best Avg Score in 119 episodes!\tAverage Score: 188.53\n",
      "Best Avg Score in 120 episodes!\tAverage Score: 189.43\n",
      "Best Avg Score in 121 episodes!\tAverage Score: 190.83\n",
      "\n",
      "Environment solved in 121 episodes!\tAverage Score: 190.83\n"
     ]
    }
   ],
   "source": [
    "def dqn(n_episodes=1600, max_t=500, eps_start=1.0, eps_end=1e-2, eps_decay=0.955, disp = False):\n",
    "    \"\"\"Deep Q-Learning.\n",
    "    \n",
    "    Params\n",
    "    ======\n",
    "        n_episodes (int): maximum number of training episodes\n",
    "        max_t (int): maximum number of timesteps per episode\n",
    "        eps_start (float): starting value of epsilon, for epsilon-greedy action selection\n",
    "        eps_end (float): minimum value of epsilon\n",
    "        eps_decay (float): multiplicative factor (per episode) for decreasing epsilon\n",
    "    \"\"\"\n",
    "    scores = []                        # list containing scores from each episode\n",
    "    scores_window = deque(maxlen=100)  # last 100 scores\n",
    "    eps = eps_start                    # initialize epsilon\n",
    "    best_avg = -np.inf\n",
    "    for i_episode in range(1, n_episodes+1):\n",
    "        state = env.reset()\n",
    "        score = 0\n",
    "        for t in range(max_t):\n",
    "            \n",
    "            if disp : env.render()\n",
    "            action = agent.act(state, eps)\n",
    "            next_state, reward, done, _ = env.step(action)\n",
    "            agent.step(state, action, reward, next_state, done)\n",
    "            state = next_state\n",
    "            score += reward\n",
    "            if done:\n",
    "                break \n",
    "        scores_window.append(score)       # save most recent score\n",
    "        scores.append(score)              # save most recent score\n",
    "        eps = max(eps_end, eps_decay*eps) # decrease epsilon\n",
    "        #if\n",
    "        avg_score = np.mean(scores_window)\n",
    "        print('\\rEpisode {}\\tAverage Score: {:.2f}\\t Eps:{:.2e}'.format(i_episode, np.mean(scores_window),eps), end=\"\")\n",
    "        if i_episode % 100 == 0:\n",
    "            print('\\rEpisode {}\\tAverage Score: {:.2f}'.format(i_episode, np.mean(scores_window)))\n",
    "        if avg_score > best_avg:\n",
    "            print('\\rBest Avg Score in {:d} episodes!\\tAverage Score: {:.2f}'.format(i_episode-100, np.mean(scores_window)))\n",
    "            best_avg = avg_score\n",
    "            torch.save(agent.qnetwork.state_dict(), 'checkpoint' + name[id] + '.pth')    \n",
    "            if avg_score >= 190.0:\n",
    "                print('\\nEnvironment solved in {:d} episodes!\\tAverage Score: {:.2f}'.format(i_episode-100, np.mean(scores_window)))\n",
    "                torch.save(agent.qnetwork.state_dict(), 'checkpoint' + name[id] + '.pth')\n",
    "                break\n",
    "    if disp: env.close()\n",
    "    return scores\n",
    "\n",
    "scores = dqn()\n"
   ]
  },
  {
   "cell_type": "code",
   "execution_count": 7,
   "metadata": {},
   "outputs": [
    {
     "data": {
      "image/png": "[encoded data removed]",
      "text/plain": [
       "<Figure size 432x288 with 1 Axes>"
      ]
     },
     "metadata": {
      "needs_background": "light"
     },
     "output_type": "display_data"
    }
   ],
   "source": [
    "fig = plt.figure()\n",
    "ax = fig.add_subplot(111)\n",
    "plt.plot(np.arange(1, len(scores)+1), scores)\n",
    "plt.ylabel('Score')\n",
    "plt.xlabel('Episode #')\n",
    "plt.show()"
   ]
  },
  {
   "cell_type": "code",
   "execution_count": 8,
   "metadata": {},
   "outputs": [],
   "source": [
    "env = gym.make(name[id])\n",
    "#agent.qnetwork.load_state_dict(torch.load('checkpoint' + name[id] + '.pth'))\n",
    "for _ in range(3):\n",
    "    state = env.reset()\n",
    "    for t in range(15000):\n",
    "        action = agent.act(state)\n",
    "        env.render( )\n",
    "        state, reward, done, _ = env.step(action)\n",
    "        if done:\n",
    "            break \n",
    "\n",
    "env.close()"
   ]
  },
  {
   "cell_type": "code",
   "execution_count": null,
   "metadata": {},
   "outputs": [],
   "source": []
  },
  {
   "cell_type": "code",
   "execution_count": null,
   "metadata": {},
   "outputs": [],
   "source": []
  }
 ],
 "metadata": {
  "kernelspec": {
   "display_name": "Python 3",
   "language": "python",
   "name": "python3"
  },
  "language_info": {
   "codemirror_mode": {
    "name": "ipython",
    "version": 3
   },
   "file_extension": ".py",
   "mimetype": "text/x-python",
   "name": "python",
   "nbconvert_exporter": "python",
   "pygments_lexer": "ipython3",
   "version": "3.7.1"
  }
 },
 "nbformat": 4,
 "nbformat_minor": 2
}
